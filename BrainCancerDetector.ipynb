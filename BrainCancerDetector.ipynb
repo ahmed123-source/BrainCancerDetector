{
  "nbformat": 4,
  "nbformat_minor": 0,
  "metadata": {
    "colab": {
      "provenance": []
    },
    "kernelspec": {
      "name": "python3",
      "display_name": "Python 3"
    },
    "language_info": {
      "name": "python"
    }
  },
  "cells": [
    {
      "cell_type": "code",
      "execution_count": null,
      "metadata": {
        "id": "ach5p1cHbFQ3"
      },
      "outputs": [],
      "source": [
        "import warnings\n",
        "warnings.filterwarnings(\"ignore\")\n"
      ]
    },
    {
      "cell_type": "code",
      "source": [
        "import numpy as np\n",
        "import matplotlib.pyplot as plt\n",
        "import os\n",
        "import math\n",
        "import shutil\n",
        "import glob"
      ],
      "metadata": {
        "id": "Tdj3S2QXmlyd"
      },
      "execution_count": null,
      "outputs": []
    },
    {
      "cell_type": "code",
      "source": [
        "#count the number of images of class 0 : brain tumor and class 1: "
      ],
      "metadata": {
        "id": "SQDOCvzZ0mIh"
      },
      "execution_count": null,
      "outputs": []
    },
    {
      "cell_type": "code",
      "source": [
        "root_dir=\"/content/drive/MyDrive/brain_tumor_data\"\n",
        "number_img={}\n",
        "for dir in os.listdir(root_dir):\n",
        "  number_img[dir]=len(os.listdir(os.path.join(root_dir,dir)))\n",
        "number_img\n"
      ],
      "metadata": {
        "colab": {
          "base_uri": "https://localhost:8080/"
        },
        "id": "5sWIhsfm2a4o",
        "outputId": "46397a86-f054-4833-b294-5be43cce5d24"
      },
      "execution_count": null,
      "outputs": [
        {
          "output_type": "execute_result",
          "data": {
            "text/plain": [
              "{'yes': 1500, 'no': 1500}"
            ]
          },
          "metadata": {},
          "execution_count": 6
        }
      ]
    },
    {
      "cell_type": "code",
      "source": [
        "#Split data 70% train 15% validation 15% test\n",
        "def datafolder(p,split):\n",
        "  if not os.path.exists(\"./\"+p):\n",
        "    os.mkdir(\"./\"+p)\n",
        "    for dir in os.listdir(root_dir):\n",
        "      os.makedirs(\"./\"+p+\"/\"+dir) \n",
        "      for img in np.random.choice(a=os.listdir(os.path.join(root_dir,dir)),size=math.floor(split*number_img[dir]),replace=False):\n",
        "        o=os.path.join(root_dir,dir,img)\n",
        "        d=os.path.join(\"./\"+p+\"/\",dir)\n",
        "        shutil.copy(o,d)\n",
        "        os.remove(o)\n",
        "  else:\n",
        "    print(p+\" folder exist\")\n",
        "\n",
        "\n"
      ],
      "metadata": {
        "id": "xOF-Rmyj3y01"
      },
      "execution_count": null,
      "outputs": []
    },
    {
      "cell_type": "code",
      "source": [
        "#1-create train folder\n",
        "datafolder(\"train\",0.7)\n",
        "len(os.listdir(\"./train/yes\"))"
      ],
      "metadata": {
        "id": "YO7pcVHsQzwS"
      },
      "execution_count": null,
      "outputs": []
    },
    {
      "cell_type": "code",
      "source": [
        "#1-create train folder\n",
        "datafolder(\"valid\",0.15)"
      ],
      "metadata": {
        "id": "BAK91EoJRaLd"
      },
      "execution_count": null,
      "outputs": []
    },
    {
      "cell_type": "code",
      "source": [
        "#1-create train folder\n",
        "datafolder(\"test\",0.15)\n",
        "len(os.listdir(\"./test/yes\"))"
      ],
      "metadata": {
        "colab": {
          "base_uri": "https://localhost:8080/"
        },
        "id": "q-mrOazaRwaT",
        "outputId": "362543b3-b60b-480f-a283-9eab9ce864e6"
      },
      "execution_count": null,
      "outputs": [
        {
          "output_type": "execute_result",
          "data": {
            "text/plain": [
              "225"
            ]
          },
          "metadata": {},
          "execution_count": 17
        }
      ]
    },
    {
      "cell_type": "code",
      "source": [
        "from keras.layers.pooling import GlobalAvgPool2D\n",
        "from keras.layers import Conv2D, MaxPooling2D , Dropout , BatchNormalization, Flatten , Dense , GlobalAvgPool2D\n",
        "from keras.models import sequential\n",
        "from keras.preprocessing.image import ImageDataGenerator\n",
        "import keras\n",
        "import tensorflow as tf"
      ],
      "metadata": {
        "id": "TkjSk7wpHd68"
      },
      "execution_count": null,
      "outputs": []
    },
    {
      "cell_type": "code",
      "source": [
        "from keras.engine.sequential import Sequential\n",
        "cnn_model = Sequential()\n",
        "cnn_model.add(Conv2D(filters=16, kernel_size=(3,3),activation=\"relu\",input_shape=(224,224,3),padding=\"same\"))\n",
        "cnn_model.add(MaxPooling2D(pool_size=(2,2)))\n",
        "cnn_model.add(Conv2D(filters=32, kernel_size=(3,3),activation=\"relu\",padding=\"same\"))\n",
        "cnn_model.add(MaxPooling2D(pool_size=(2,2)))\n",
        "cnn_model.add(Conv2D(filters=64, kernel_size=(3,3),activation=\"relu\",input_shape=(224,224,3),padding=\"same\"))\n",
        "cnn_model.add(MaxPooling2D(pool_size=(2,2)))\n",
        "cnn_model.add(Conv2D(filters=128, kernel_size=(3,3),activation=\"relu\",padding=\"same\"))\n",
        "cnn_model.add(MaxPooling2D(pool_size=(2,2)))\n",
        "cnn_model.add(Dropout(rate=0.25))\n",
        "cnn_model.add(Flatten())\n",
        "cnn_model.add(Dense(units=64,activation=\"relu\"))\n",
        "cnn_model.add(Dropout(rate=0.25))\n",
        "cnn_model.add(Dense(units=1,activation=\"sigmoid\"))\n",
        "cnn_model.summary()\n"
      ],
      "metadata": {
        "colab": {
          "base_uri": "https://localhost:8080/"
        },
        "id": "KAQRLTaSd3v_",
        "outputId": "cfceb7ca-36eb-4766-b602-cf295a855895"
      },
      "execution_count": null,
      "outputs": [
        {
          "output_type": "stream",
          "name": "stdout",
          "text": [
            "Model: \"sequential\"\n",
            "_________________________________________________________________\n",
            " Layer (type)                Output Shape              Param #   \n",
            "=================================================================\n",
            " conv2d (Conv2D)             (None, 224, 224, 16)      448       \n",
            "                                                                 \n",
            " max_pooling2d (MaxPooling2D  (None, 112, 112, 16)     0         \n",
            " )                                                               \n",
            "                                                                 \n",
            " conv2d_1 (Conv2D)           (None, 112, 112, 32)      4640      \n",
            "                                                                 \n",
            " max_pooling2d_1 (MaxPooling  (None, 56, 56, 32)       0         \n",
            " 2D)                                                             \n",
            "                                                                 \n",
            " conv2d_2 (Conv2D)           (None, 56, 56, 64)        18496     \n",
            "                                                                 \n",
            " max_pooling2d_2 (MaxPooling  (None, 28, 28, 64)       0         \n",
            " 2D)                                                             \n",
            "                                                                 \n",
            " conv2d_3 (Conv2D)           (None, 28, 28, 128)       73856     \n",
            "                                                                 \n",
            " max_pooling2d_3 (MaxPooling  (None, 14, 14, 128)      0         \n",
            " 2D)                                                             \n",
            "                                                                 \n",
            " dropout (Dropout)           (None, 14, 14, 128)       0         \n",
            "                                                                 \n",
            " flatten (Flatten)           (None, 25088)             0         \n",
            "                                                                 \n",
            " dense (Dense)               (None, 64)                1605696   \n",
            "                                                                 \n",
            " dropout_1 (Dropout)         (None, 64)                0         \n",
            "                                                                 \n",
            " dense_1 (Dense)             (None, 1)                 65        \n",
            "                                                                 \n",
            "=================================================================\n",
            "Total params: 1,703,201\n",
            "Trainable params: 1,703,201\n",
            "Non-trainable params: 0\n",
            "_________________________________________________________________\n"
          ]
        }
      ]
    },
    {
      "cell_type": "code",
      "source": [
        "cnn_model.compile(optimizer=\"adam\",loss=keras.losses.BinaryCrossentropy,metrics=[\"accuracy\"])"
      ],
      "metadata": {
        "id": "l8Iroexnkayh"
      },
      "execution_count": null,
      "outputs": []
    },
    {
      "cell_type": "code",
      "source": [
        "def preprocessing_img_train(path):\n",
        "  img_gen=ImageDataGenerator(zoom_range=0.2,shear_range=0.2,rescale=1/255,horizontal_flip=True)\n",
        "  image=img_gen.flow_from_directory(directory=path,target_size=(224,224),batch_size=32,class_mode=\"binary\")\n",
        "  return image\n"
      ],
      "metadata": {
        "id": "KdDYfgiBlSxF"
      },
      "execution_count": null,
      "outputs": []
    },
    {
      "cell_type": "code",
      "source": [
        "path='content/train'\n"
      ],
      "metadata": {
        "id": "vZIqTDjwX7uu"
      },
      "execution_count": null,
      "outputs": []
    },
    {
      "cell_type": "code",
      "source": [
        "def preprocessing_img_train(path):\n",
        "  img_gen=ImageDataGenerator(zoom_range=0.2,shear_range=0.2,rescale=1/255,horizontal_flip=True)\n",
        "  image=img_gen.flow_from_directory(directory=path,target_size=(224,224),batch_size=32,class_mode=\"binary\")\n",
        "  return image"
      ],
      "metadata": {
        "id": "V6Pm6AeTXrFZ"
      },
      "execution_count": null,
      "outputs": []
    }
  ]
}